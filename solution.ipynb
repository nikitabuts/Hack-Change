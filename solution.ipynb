{
 "cells": [
  {
   "cell_type": "markdown",
   "metadata": {},
   "source": [
    "# Hack & Change Changellenge 2019\n",
    "### Решение задачи трека Data Science, предложенное коммандой №11 \"ДуркаScience\"\n",
    "\n",
    "#### Идея состоит в следующем: \n",
    "    Для выявления наиболее эффективного территориального размещения точек выдачи мы решили предсказать 4 переменные. Основные из них: количество выданных заказов в постомате за день в среднем и бинарная переменная, определяющая, будет ли размещение постомата в данной локации выгодным или нет. Для прогнозирования мы основывались на данных тренда, количестве близлежащих университетов (акцент на целевой более активной аудитории), данных о взаимном расположении магазинов, данных об основных конкурентах, а так на исхоных данных :)"
   ]
  },
  {
   "cell_type": "code",
   "execution_count": 1,
   "metadata": {},
   "outputs": [],
   "source": [
    "import pandas as pd\n",
    "import numpy as np\n",
    "import matplotlib.pyplot as plt\n",
    "from sklearn.preprocessing import LabelEncoder as LE"
   ]
  },
  {
   "cell_type": "markdown",
   "metadata": {},
   "source": [
    "Файл dataset.xlsx содержит частично предобработанные данные с добавленными новыми признаками"
   ]
  },
  {
   "cell_type": "code",
   "execution_count": 2,
   "metadata": {},
   "outputs": [
    {
     "data": {
      "text/html": [
       "<div>\n",
       "<style scoped>\n",
       "    .dataframe tbody tr th:only-of-type {\n",
       "        vertical-align: middle;\n",
       "    }\n",
       "\n",
       "    .dataframe tbody tr th {\n",
       "        vertical-align: top;\n",
       "    }\n",
       "\n",
       "    .dataframe thead th {\n",
       "        text-align: right;\n",
       "    }\n",
       "</style>\n",
       "<table border=\"1\" class=\"dataframe\">\n",
       "  <thead>\n",
       "    <tr style=\"text-align: right;\">\n",
       "      <th></th>\n",
       "      <th>ADDRESS</th>\n",
       "      <th>CITY</th>\n",
       "      <th>REGION</th>\n",
       "      <th>Postamat_daily</th>\n",
       "      <th>cashbox_daily</th>\n",
       "      <th>Postamat_trend</th>\n",
       "      <th>cashbox_MAX</th>\n",
       "      <th>cashbox_trend</th>\n",
       "      <th>hh_500</th>\n",
       "      <th>value1</th>\n",
       "      <th>...</th>\n",
       "      <th>NEAR_Business_centers</th>\n",
       "      <th>NEAR_metro_rjd</th>\n",
       "      <th>NEAR_Stations</th>\n",
       "      <th>macro_salary_avg_yearly</th>\n",
       "      <th>PickPoint</th>\n",
       "      <th>СДЭК</th>\n",
       "      <th>Университет</th>\n",
       "      <th>Пятёрочка</th>\n",
       "      <th>DPD</th>\n",
       "      <th>Почта России</th>\n",
       "    </tr>\n",
       "  </thead>\n",
       "  <tbody>\n",
       "    <tr>\n",
       "      <td>0</td>\n",
       "      <td>г.Калуга, Литейная ул., 25/15</td>\n",
       "      <td>КАЛУГА</td>\n",
       "      <td>Калужская область</td>\n",
       "      <td>NaN</td>\n",
       "      <td>3.3</td>\n",
       "      <td>NaN</td>\n",
       "      <td>13.0</td>\n",
       "      <td>1.0</td>\n",
       "      <td>7696</td>\n",
       "      <td>10099</td>\n",
       "      <td>...</td>\n",
       "      <td>0</td>\n",
       "      <td>NaN</td>\n",
       "      <td>остановка</td>\n",
       "      <td>423321</td>\n",
       "      <td>3</td>\n",
       "      <td>1</td>\n",
       "      <td>1</td>\n",
       "      <td>1</td>\n",
       "      <td>2</td>\n",
       "      <td>0</td>\n",
       "    </tr>\n",
       "    <tr>\n",
       "      <td>1</td>\n",
       "      <td>г.Калуга, Гагарина ул., 1</td>\n",
       "      <td>КАЛУГА</td>\n",
       "      <td>Калужская область</td>\n",
       "      <td>NaN</td>\n",
       "      <td>NaN</td>\n",
       "      <td>NaN</td>\n",
       "      <td>NaN</td>\n",
       "      <td>NaN</td>\n",
       "      <td>6369</td>\n",
       "      <td>10068</td>\n",
       "      <td>...</td>\n",
       "      <td>1</td>\n",
       "      <td>NaN</td>\n",
       "      <td>остановка</td>\n",
       "      <td>423321</td>\n",
       "      <td>3</td>\n",
       "      <td>0</td>\n",
       "      <td>12</td>\n",
       "      <td>14</td>\n",
       "      <td>1</td>\n",
       "      <td>0</td>\n",
       "    </tr>\n",
       "    <tr>\n",
       "      <td>2</td>\n",
       "      <td>г.Калуга, Кибальчича ул., 25</td>\n",
       "      <td>КАЛУГА</td>\n",
       "      <td>Калужская область</td>\n",
       "      <td>NaN</td>\n",
       "      <td>3.1</td>\n",
       "      <td>NaN</td>\n",
       "      <td>12.0</td>\n",
       "      <td>1.0</td>\n",
       "      <td>5553</td>\n",
       "      <td>10100</td>\n",
       "      <td>...</td>\n",
       "      <td>0</td>\n",
       "      <td>NaN</td>\n",
       "      <td>NaN</td>\n",
       "      <td>423321</td>\n",
       "      <td>2</td>\n",
       "      <td>0</td>\n",
       "      <td>0</td>\n",
       "      <td>0</td>\n",
       "      <td>0</td>\n",
       "      <td>1</td>\n",
       "    </tr>\n",
       "    <tr>\n",
       "      <td>3</td>\n",
       "      <td>г.Калуга, Пестеля ул., 60/49</td>\n",
       "      <td>КАЛУГА</td>\n",
       "      <td>Калужская область</td>\n",
       "      <td>3.0</td>\n",
       "      <td>2.2</td>\n",
       "      <td>0.0</td>\n",
       "      <td>12.0</td>\n",
       "      <td>1.0</td>\n",
       "      <td>7162</td>\n",
       "      <td>10099</td>\n",
       "      <td>...</td>\n",
       "      <td>0</td>\n",
       "      <td>NaN</td>\n",
       "      <td>NaN</td>\n",
       "      <td>423321</td>\n",
       "      <td>2</td>\n",
       "      <td>1</td>\n",
       "      <td>0</td>\n",
       "      <td>1</td>\n",
       "      <td>0</td>\n",
       "      <td>1</td>\n",
       "    </tr>\n",
       "    <tr>\n",
       "      <td>4</td>\n",
       "      <td>г.Калуга, Ленина ул., 81</td>\n",
       "      <td>КАЛУГА</td>\n",
       "      <td>Калужская область</td>\n",
       "      <td>1.0</td>\n",
       "      <td>2.0</td>\n",
       "      <td>0.0</td>\n",
       "      <td>9.0</td>\n",
       "      <td>1.0</td>\n",
       "      <td>6269</td>\n",
       "      <td>10096</td>\n",
       "      <td>...</td>\n",
       "      <td>0</td>\n",
       "      <td>NaN</td>\n",
       "      <td>остановка</td>\n",
       "      <td>423321</td>\n",
       "      <td>4</td>\n",
       "      <td>1</td>\n",
       "      <td>6</td>\n",
       "      <td>4</td>\n",
       "      <td>1</td>\n",
       "      <td>0</td>\n",
       "    </tr>\n",
       "  </tbody>\n",
       "</table>\n",
       "<p>5 rows × 23 columns</p>\n",
       "</div>"
      ],
      "text/plain": [
       "                         ADDRESS    CITY             REGION  Postamat_daily  \\\n",
       "0  г.Калуга, Литейная ул., 25/15  КАЛУГА  Калужская область             NaN   \n",
       "1      г.Калуга, Гагарина ул., 1  КАЛУГА  Калужская область             NaN   \n",
       "2   г.Калуга, Кибальчича ул., 25  КАЛУГА  Калужская область             NaN   \n",
       "3   г.Калуга, Пестеля ул., 60/49  КАЛУГА  Калужская область             3.0   \n",
       "4       г.Калуга, Ленина ул., 81  КАЛУГА  Калужская область             1.0   \n",
       "\n",
       "   cashbox_daily  Postamat_trend  cashbox_MAX  cashbox_trend  hh_500  value1  \\\n",
       "0            3.3             NaN         13.0            1.0    7696   10099   \n",
       "1            NaN             NaN          NaN            NaN    6369   10068   \n",
       "2            3.1             NaN         12.0            1.0    5553   10100   \n",
       "3            2.2             0.0         12.0            1.0    7162   10099   \n",
       "4            2.0             0.0          9.0            1.0    6269   10096   \n",
       "\n",
       "   ...  NEAR_Business_centers  NEAR_metro_rjd  NEAR_Stations  \\\n",
       "0  ...                      0             NaN      остановка   \n",
       "1  ...                      1             NaN      остановка   \n",
       "2  ...                      0             NaN            NaN   \n",
       "3  ...                      0             NaN            NaN   \n",
       "4  ...                      0             NaN      остановка   \n",
       "\n",
       "   macro_salary_avg_yearly  PickPoint СДЭК  Университет  Пятёрочка  DPD  \\\n",
       "0                   423321          3    1            1          1    2   \n",
       "1                   423321          3    0           12         14    1   \n",
       "2                   423321          2    0            0          0    0   \n",
       "3                   423321          2    1            0          1    0   \n",
       "4                   423321          4    1            6          4    1   \n",
       "\n",
       "   Почта России  \n",
       "0             0  \n",
       "1             0  \n",
       "2             1  \n",
       "3             1  \n",
       "4             0  \n",
       "\n",
       "[5 rows x 23 columns]"
      ]
     },
     "execution_count": 2,
     "metadata": {},
     "output_type": "execute_result"
    }
   ],
   "source": [
    "data = pd.read_excel(\"dataset.xlsx\")\n",
    "data.head()"
   ]
  },
  {
   "cell_type": "markdown",
   "metadata": {},
   "source": [
    "#### Функция для кодирования категориальных признаков"
   ]
  },
  {
   "cell_type": "code",
   "execution_count": 3,
   "metadata": {},
   "outputs": [],
   "source": [
    "def encoding(column):\n",
    "    le = LE()\n",
    "    le.fit(column)\n",
    "    return pd.Categorical(le.transform(column))"
   ]
  },
  {
   "cell_type": "markdown",
   "metadata": {},
   "source": [
    "Собираем целевые переменные в labels. Удаляем нерелевантные признаки и целевые переменные из data"
   ]
  },
  {
   "cell_type": "code",
   "execution_count": 4,
   "metadata": {},
   "outputs": [],
   "source": [
    "labels = pd.DataFrame({\"Postamat_daily\": data['Postamat_daily'], \n",
    "                      \"cashbox_daily\": data['cashbox_daily']})\n",
    "data = data.drop(['ADDRESS', 'Postamat_daily', 'cashbox_daily', 'cashbox_MAX',\n",
    "          'macro_salary_avg_yearly'], axis = 1)"
   ]
  },
  {
   "cell_type": "markdown",
   "metadata": {},
   "source": [
    "Преобразуем названия городов к одному регистру и кодируем различные кат. признаки. "
   ]
  },
  {
   "cell_type": "code",
   "execution_count": 5,
   "metadata": {},
   "outputs": [],
   "source": [
    "data['CITY'] = data['CITY'].apply(lambda x: x.lower())\n",
    "data['REGION'] = encoding(data['REGION'])\n",
    "data['NEAR_Stations'] = data['NEAR_Stations'].fillna(\"нет\")\n",
    "data['NEAR_Stations'] = encoding(data['NEAR_Stations'])\n",
    "data = data.drop('NEAR_metro_rjd', axis = 1)\n",
    "trends = data.loc[:, ['cashbox_trend', 'Postamat_trend']]\n",
    "data = data.drop(['cashbox_trend', 'Postamat_trend'], axis = 1)\n",
    "data['CITY'] = encoding(data['CITY'])"
   ]
  },
  {
   "cell_type": "markdown",
   "metadata": {},
   "source": [
    "В дальнешем нам понадобится датасет с другими признаками, поэтому заранее создадим копию"
   ]
  },
  {
   "cell_type": "code",
   "execution_count": 6,
   "metadata": {},
   "outputs": [],
   "source": [
    "second_dataset = data.copy()"
   ]
  },
  {
   "cell_type": "code",
   "execution_count": 7,
   "metadata": {},
   "outputs": [
    {
     "data": {
      "text/html": [
       "<div>\n",
       "<style scoped>\n",
       "    .dataframe tbody tr th:only-of-type {\n",
       "        vertical-align: middle;\n",
       "    }\n",
       "\n",
       "    .dataframe tbody tr th {\n",
       "        vertical-align: top;\n",
       "    }\n",
       "\n",
       "    .dataframe thead th {\n",
       "        text-align: right;\n",
       "    }\n",
       "</style>\n",
       "<table border=\"1\" class=\"dataframe\">\n",
       "  <thead>\n",
       "    <tr style=\"text-align: right;\">\n",
       "      <th></th>\n",
       "      <th>CITY</th>\n",
       "      <th>REGION</th>\n",
       "      <th>hh_500</th>\n",
       "      <th>value1</th>\n",
       "      <th>value2</th>\n",
       "      <th>POPULATION</th>\n",
       "      <th>NEAR_Malls</th>\n",
       "      <th>NEAR_Business_centers</th>\n",
       "      <th>NEAR_Stations</th>\n",
       "      <th>PickPoint</th>\n",
       "      <th>СДЭК</th>\n",
       "      <th>Университет</th>\n",
       "      <th>Пятёрочка</th>\n",
       "      <th>DPD</th>\n",
       "      <th>Почта России</th>\n",
       "    </tr>\n",
       "  </thead>\n",
       "  <tbody>\n",
       "    <tr>\n",
       "      <td>0</td>\n",
       "      <td>41</td>\n",
       "      <td>0</td>\n",
       "      <td>7696</td>\n",
       "      <td>10099</td>\n",
       "      <td>3382</td>\n",
       "      <td>324698</td>\n",
       "      <td>0</td>\n",
       "      <td>0</td>\n",
       "      <td>2</td>\n",
       "      <td>3</td>\n",
       "      <td>1</td>\n",
       "      <td>1</td>\n",
       "      <td>1</td>\n",
       "      <td>2</td>\n",
       "      <td>0</td>\n",
       "    </tr>\n",
       "    <tr>\n",
       "      <td>1</td>\n",
       "      <td>41</td>\n",
       "      <td>0</td>\n",
       "      <td>6369</td>\n",
       "      <td>10068</td>\n",
       "      <td>3236</td>\n",
       "      <td>324698</td>\n",
       "      <td>1</td>\n",
       "      <td>1</td>\n",
       "      <td>2</td>\n",
       "      <td>3</td>\n",
       "      <td>0</td>\n",
       "      <td>12</td>\n",
       "      <td>14</td>\n",
       "      <td>1</td>\n",
       "      <td>0</td>\n",
       "    </tr>\n",
       "    <tr>\n",
       "      <td>2</td>\n",
       "      <td>41</td>\n",
       "      <td>0</td>\n",
       "      <td>5553</td>\n",
       "      <td>10100</td>\n",
       "      <td>3436</td>\n",
       "      <td>324698</td>\n",
       "      <td>1</td>\n",
       "      <td>0</td>\n",
       "      <td>1</td>\n",
       "      <td>2</td>\n",
       "      <td>0</td>\n",
       "      <td>0</td>\n",
       "      <td>0</td>\n",
       "      <td>0</td>\n",
       "      <td>1</td>\n",
       "    </tr>\n",
       "    <tr>\n",
       "      <td>3</td>\n",
       "      <td>41</td>\n",
       "      <td>0</td>\n",
       "      <td>7162</td>\n",
       "      <td>10099</td>\n",
       "      <td>3257</td>\n",
       "      <td>324698</td>\n",
       "      <td>0</td>\n",
       "      <td>0</td>\n",
       "      <td>1</td>\n",
       "      <td>2</td>\n",
       "      <td>1</td>\n",
       "      <td>0</td>\n",
       "      <td>1</td>\n",
       "      <td>0</td>\n",
       "      <td>1</td>\n",
       "    </tr>\n",
       "    <tr>\n",
       "      <td>4</td>\n",
       "      <td>41</td>\n",
       "      <td>0</td>\n",
       "      <td>6269</td>\n",
       "      <td>10096</td>\n",
       "      <td>3195</td>\n",
       "      <td>324698</td>\n",
       "      <td>1</td>\n",
       "      <td>0</td>\n",
       "      <td>2</td>\n",
       "      <td>4</td>\n",
       "      <td>1</td>\n",
       "      <td>6</td>\n",
       "      <td>4</td>\n",
       "      <td>1</td>\n",
       "      <td>0</td>\n",
       "    </tr>\n",
       "  </tbody>\n",
       "</table>\n",
       "</div>"
      ],
      "text/plain": [
       "  CITY REGION  hh_500  value1  value2  POPULATION  NEAR_Malls  \\\n",
       "0   41      0    7696   10099    3382      324698           0   \n",
       "1   41      0    6369   10068    3236      324698           1   \n",
       "2   41      0    5553   10100    3436      324698           1   \n",
       "3   41      0    7162   10099    3257      324698           0   \n",
       "4   41      0    6269   10096    3195      324698           1   \n",
       "\n",
       "   NEAR_Business_centers NEAR_Stations  PickPoint  СДЭК  Университет  \\\n",
       "0                      0             2          3     1            1   \n",
       "1                      1             2          3     0           12   \n",
       "2                      0             1          2     0            0   \n",
       "3                      0             1          2     1            0   \n",
       "4                      0             2          4     1            6   \n",
       "\n",
       "   Пятёрочка  DPD  Почта России  \n",
       "0          1    2             0  \n",
       "1         14    1             0  \n",
       "2          0    0             1  \n",
       "3          1    0             1  \n",
       "4          4    1             0  "
      ]
     },
     "execution_count": 7,
     "metadata": {},
     "output_type": "execute_result"
    }
   ],
   "source": [
    "data.head()"
   ]
  },
  {
   "cell_type": "markdown",
   "metadata": {},
   "source": [
    "Также убираем данные по количеству пятерочек и университетов вокруг магазина, так как они будут нужны позже"
   ]
  },
  {
   "cell_type": "code",
   "execution_count": 8,
   "metadata": {},
   "outputs": [],
   "source": [
    "data = data.drop(['Пятёрочка', 'Университет'], axis = 1)"
   ]
  },
  {
   "cell_type": "markdown",
   "metadata": {},
   "source": [
    "Добавляем новые признаки из старых"
   ]
  },
  {
   "cell_type": "code",
   "execution_count": 9,
   "metadata": {},
   "outputs": [],
   "source": [
    "data['population/value1'] = data['value1'] / data['POPULATION']\n",
    "data['population/value2'] = data['value2'] / data['POPULATION']\n",
    "data['population/hh_500'] = data['hh_500'] / data['POPULATION'] \n",
    "data['hh_500/value2'] = data['hh_500'] / data['value2']\n",
    "data['hh_500/value1'] = data['hh_500'] / data['value1']\n",
    "data = data.drop(['hh_500', 'value1', 'value2', 'POPULATION'], axis = 1)"
   ]
  },
  {
   "cell_type": "markdown",
   "metadata": {},
   "source": [
    "Берем только те данные, для которых есть информация по среднему кол-ву заказов в кассах."
   ]
  },
  {
   "cell_type": "code",
   "execution_count": 10,
   "metadata": {},
   "outputs": [],
   "source": [
    "X = data[labels['cashbox_daily'].isnull() == False]"
   ]
  },
  {
   "cell_type": "markdown",
   "metadata": {},
   "source": [
    "Для начала попробуем предсказать данные cashbox_daily"
   ]
  },
  {
   "cell_type": "code",
   "execution_count": 11,
   "metadata": {},
   "outputs": [],
   "source": [
    "from sklearn.ensemble import RandomForestRegressor as RFR\n",
    "from sklearn.model_selection import cross_val_score"
   ]
  },
  {
   "cell_type": "markdown",
   "metadata": {},
   "source": [
    "#### MSE на кросс-валидации получился примерно равным 0.5"
   ]
  },
  {
   "cell_type": "code",
   "execution_count": 12,
   "metadata": {},
   "outputs": [
    {
     "data": {
      "text/plain": [
       "0.4875415749666672"
      ]
     },
     "execution_count": 12,
     "metadata": {},
     "output_type": "execute_result"
    }
   ],
   "source": [
    "clf = RFR(n_estimators = 500, max_depth = 20, random_state = 17)\n",
    "-cross_val_score(clf, X,  labels['cashbox_daily'].dropna(), cv=10, scoring='neg_mean_squared_error').mean()"
   ]
  },
  {
   "cell_type": "markdown",
   "metadata": {},
   "source": [
    "Попробуем с помощью этой модели предсказать те данные, в которых у нас нет cashbox_daily"
   ]
  },
  {
   "cell_type": "code",
   "execution_count": 13,
   "metadata": {},
   "outputs": [],
   "source": [
    "clf = RFR(n_estimators = 500, max_depth = 20, random_state = 17)\n",
    "clf.fit(X, labels['cashbox_daily'].dropna());"
   ]
  },
  {
   "cell_type": "code",
   "execution_count": 14,
   "metadata": {},
   "outputs": [],
   "source": [
    "preds = clf.predict(data[labels['cashbox_daily'].isnull() == True])\n",
    "counter = 0\n",
    "for i in np.arange(len(labels)):\n",
    "    if np.isnan(labels['cashbox_daily'][i]):\n",
    "        labels['cashbox_daily'][i] = preds[counter]\n",
    "        counter += 1"
   ]
  },
  {
   "cell_type": "markdown",
   "metadata": {},
   "source": [
    "## CASHBOX TREND PREDICTION"
   ]
  },
  {
   "cell_type": "markdown",
   "metadata": {},
   "source": [
    "Заполняем еще одну таблицу"
   ]
  },
  {
   "cell_type": "code",
   "execution_count": 15,
   "metadata": {},
   "outputs": [],
   "source": [
    "second_dataset = second_dataset.drop(['Пятёрочка', 'Университет'], axis = 1)\n",
    "second_dataset['value1/population'] = second_dataset['value1'] / second_dataset['POPULATION']\n",
    "second_dataset['value2/population'] = second_dataset['value2'] / second_dataset['POPULATION']\n",
    "second_dataset['hh_500/population'] = second_dataset['hh_500'] / second_dataset['POPULATION'] \n",
    "second_dataset['hh_500/value2'] = second_dataset['hh_500'] / second_dataset['value2']\n",
    "second_dataset['hh_500/value1'] = second_dataset['hh_500'] / second_dataset['value1']\n",
    "second_dataset = second_dataset.drop(['hh_500', 'value1', 'value2', 'POPULATION'], axis = 1)"
   ]
  },
  {
   "cell_type": "code",
   "execution_count": 16,
   "metadata": {},
   "outputs": [],
   "source": [
    "second_dataset['cashbox_daily'] = labels['cashbox_daily']"
   ]
  },
  {
   "cell_type": "code",
   "execution_count": 17,
   "metadata": {},
   "outputs": [
    {
     "data": {
      "text/html": [
       "<div>\n",
       "<style scoped>\n",
       "    .dataframe tbody tr th:only-of-type {\n",
       "        vertical-align: middle;\n",
       "    }\n",
       "\n",
       "    .dataframe tbody tr th {\n",
       "        vertical-align: top;\n",
       "    }\n",
       "\n",
       "    .dataframe thead th {\n",
       "        text-align: right;\n",
       "    }\n",
       "</style>\n",
       "<table border=\"1\" class=\"dataframe\">\n",
       "  <thead>\n",
       "    <tr style=\"text-align: right;\">\n",
       "      <th></th>\n",
       "      <th>CITY</th>\n",
       "      <th>REGION</th>\n",
       "      <th>NEAR_Malls</th>\n",
       "      <th>NEAR_Business_centers</th>\n",
       "      <th>NEAR_Stations</th>\n",
       "      <th>PickPoint</th>\n",
       "      <th>СДЭК</th>\n",
       "      <th>DPD</th>\n",
       "      <th>Почта России</th>\n",
       "      <th>value1/population</th>\n",
       "      <th>value2/population</th>\n",
       "      <th>hh_500/population</th>\n",
       "      <th>hh_500/value2</th>\n",
       "      <th>hh_500/value1</th>\n",
       "      <th>cashbox_daily</th>\n",
       "    </tr>\n",
       "  </thead>\n",
       "  <tbody>\n",
       "    <tr>\n",
       "      <td>0</td>\n",
       "      <td>41</td>\n",
       "      <td>0</td>\n",
       "      <td>0</td>\n",
       "      <td>0</td>\n",
       "      <td>2</td>\n",
       "      <td>3</td>\n",
       "      <td>1</td>\n",
       "      <td>2</td>\n",
       "      <td>0</td>\n",
       "      <td>0.031103</td>\n",
       "      <td>0.010416</td>\n",
       "      <td>0.023702</td>\n",
       "      <td>2.275577</td>\n",
       "      <td>0.762056</td>\n",
       "      <td>3.3000</td>\n",
       "    </tr>\n",
       "    <tr>\n",
       "      <td>1</td>\n",
       "      <td>41</td>\n",
       "      <td>0</td>\n",
       "      <td>1</td>\n",
       "      <td>1</td>\n",
       "      <td>2</td>\n",
       "      <td>3</td>\n",
       "      <td>0</td>\n",
       "      <td>1</td>\n",
       "      <td>0</td>\n",
       "      <td>0.031007</td>\n",
       "      <td>0.009966</td>\n",
       "      <td>0.019615</td>\n",
       "      <td>1.968171</td>\n",
       "      <td>0.632598</td>\n",
       "      <td>2.4088</td>\n",
       "    </tr>\n",
       "    <tr>\n",
       "      <td>2</td>\n",
       "      <td>41</td>\n",
       "      <td>0</td>\n",
       "      <td>1</td>\n",
       "      <td>0</td>\n",
       "      <td>1</td>\n",
       "      <td>2</td>\n",
       "      <td>0</td>\n",
       "      <td>0</td>\n",
       "      <td>1</td>\n",
       "      <td>0.031106</td>\n",
       "      <td>0.010582</td>\n",
       "      <td>0.017102</td>\n",
       "      <td>1.616123</td>\n",
       "      <td>0.549802</td>\n",
       "      <td>3.1000</td>\n",
       "    </tr>\n",
       "    <tr>\n",
       "      <td>3</td>\n",
       "      <td>41</td>\n",
       "      <td>0</td>\n",
       "      <td>0</td>\n",
       "      <td>0</td>\n",
       "      <td>1</td>\n",
       "      <td>2</td>\n",
       "      <td>1</td>\n",
       "      <td>0</td>\n",
       "      <td>1</td>\n",
       "      <td>0.031103</td>\n",
       "      <td>0.010031</td>\n",
       "      <td>0.022057</td>\n",
       "      <td>2.198956</td>\n",
       "      <td>0.709179</td>\n",
       "      <td>2.2000</td>\n",
       "    </tr>\n",
       "    <tr>\n",
       "      <td>4</td>\n",
       "      <td>41</td>\n",
       "      <td>0</td>\n",
       "      <td>1</td>\n",
       "      <td>0</td>\n",
       "      <td>2</td>\n",
       "      <td>4</td>\n",
       "      <td>1</td>\n",
       "      <td>1</td>\n",
       "      <td>0</td>\n",
       "      <td>0.031094</td>\n",
       "      <td>0.009840</td>\n",
       "      <td>0.019307</td>\n",
       "      <td>1.962128</td>\n",
       "      <td>0.620939</td>\n",
       "      <td>2.0000</td>\n",
       "    </tr>\n",
       "  </tbody>\n",
       "</table>\n",
       "</div>"
      ],
      "text/plain": [
       "  CITY REGION  NEAR_Malls  NEAR_Business_centers NEAR_Stations  PickPoint  \\\n",
       "0   41      0           0                      0             2          3   \n",
       "1   41      0           1                      1             2          3   \n",
       "2   41      0           1                      0             1          2   \n",
       "3   41      0           0                      0             1          2   \n",
       "4   41      0           1                      0             2          4   \n",
       "\n",
       "   СДЭК  DPD  Почта России  value1/population  value2/population  \\\n",
       "0     1    2             0           0.031103           0.010416   \n",
       "1     0    1             0           0.031007           0.009966   \n",
       "2     0    0             1           0.031106           0.010582   \n",
       "3     1    0             1           0.031103           0.010031   \n",
       "4     1    1             0           0.031094           0.009840   \n",
       "\n",
       "   hh_500/population  hh_500/value2  hh_500/value1  cashbox_daily  \n",
       "0           0.023702       2.275577       0.762056         3.3000  \n",
       "1           0.019615       1.968171       0.632598         2.4088  \n",
       "2           0.017102       1.616123       0.549802         3.1000  \n",
       "3           0.022057       2.198956       0.709179         2.2000  \n",
       "4           0.019307       1.962128       0.620939         2.0000  "
      ]
     },
     "execution_count": 17,
     "metadata": {},
     "output_type": "execute_result"
    }
   ],
   "source": [
    "second_dataset.head()"
   ]
  },
  {
   "cell_type": "code",
   "execution_count": 18,
   "metadata": {},
   "outputs": [],
   "source": [
    "with_labels = second_dataset[trends['cashbox_trend'].isnull() == False]"
   ]
  },
  {
   "cell_type": "markdown",
   "metadata": {},
   "source": [
    "Опять будем предсказывать с помощью random forest"
   ]
  },
  {
   "cell_type": "code",
   "execution_count": 19,
   "metadata": {},
   "outputs": [],
   "source": [
    "from sklearn.ensemble import RandomForestClassifier"
   ]
  },
  {
   "cell_type": "markdown",
   "metadata": {},
   "source": [
    " #### В качестве метрики мы выбрали precision, так как, если бизнес откроет точку, а она не окупится, будет хуже, чем, если не открывать точку. \n",
    "    Она вышла 91%"
   ]
  },
  {
   "cell_type": "code",
   "execution_count": 20,
   "metadata": {},
   "outputs": [
    {
     "data": {
      "text/plain": [
       "0.9093040293040293"
      ]
     },
     "execution_count": 20,
     "metadata": {},
     "output_type": "execute_result"
    }
   ],
   "source": [
    "rfc = RandomForestClassifier(max_depth = 20, n_estimators = 500, random_state = 17)\n",
    "cross_val_score(rfc, with_labels, trends['cashbox_trend'].dropna(), cv = 10,\n",
    "               scoring = 'precision').mean()"
   ]
  },
  {
   "cell_type": "markdown",
   "metadata": {},
   "source": [
    "Предскажем для всего датасета"
   ]
  },
  {
   "cell_type": "code",
   "execution_count": 21,
   "metadata": {},
   "outputs": [
    {
     "data": {
      "text/plain": [
       "RandomForestClassifier(bootstrap=True, class_weight=None, criterion='gini',\n",
       "                       max_depth=20, max_features='auto', max_leaf_nodes=None,\n",
       "                       min_impurity_decrease=0.0, min_impurity_split=None,\n",
       "                       min_samples_leaf=1, min_samples_split=2,\n",
       "                       min_weight_fraction_leaf=0.0, n_estimators=500,\n",
       "                       n_jobs=None, oob_score=False, random_state=17, verbose=0,\n",
       "                       warm_start=False)"
      ]
     },
     "execution_count": 21,
     "metadata": {},
     "output_type": "execute_result"
    }
   ],
   "source": [
    "rfc.fit(with_labels, trends['cashbox_trend'].dropna())"
   ]
  },
  {
   "cell_type": "code",
   "execution_count": 22,
   "metadata": {},
   "outputs": [],
   "source": [
    "preds = rfc.predict(second_dataset[trends['cashbox_trend'].isnull() == True])\n",
    "counter = 0\n",
    "for i in np.arange(len(trends)):\n",
    "    if np.isnan(trends['cashbox_trend'][i]):\n",
    "        trends['cashbox_trend'][i] = preds[counter]\n",
    "        counter += 1"
   ]
  },
  {
   "cell_type": "code",
   "execution_count": 23,
   "metadata": {},
   "outputs": [],
   "source": [
    "second_dataset['Университет'] = pd.read_excel(\"dataset.xlsx\")['Университет']\n",
    "second_dataset['Пятёрочка'] = pd.read_excel(\"dataset.xlsx\")['Пятёрочка']"
   ]
  },
  {
   "cell_type": "markdown",
   "metadata": {},
   "source": [
    "## POSTOMAT DAILY PREDICTION\n",
    "#### Для предсказания данного признака MSE = ~1.5"
   ]
  },
  {
   "cell_type": "code",
   "execution_count": 24,
   "metadata": {},
   "outputs": [],
   "source": [
    "with_labels = second_dataset[trends['Postamat_trend'].isnull() == False]"
   ]
  },
  {
   "cell_type": "code",
   "execution_count": 25,
   "metadata": {},
   "outputs": [],
   "source": [
    "from sklearn.ensemble import RandomForestRegressor"
   ]
  },
  {
   "cell_type": "code",
   "execution_count": 26,
   "metadata": {},
   "outputs": [
    {
     "data": {
      "text/plain": [
       "1.5541911857142856"
      ]
     },
     "execution_count": 26,
     "metadata": {},
     "output_type": "execute_result"
    }
   ],
   "source": [
    "rfc = RandomForestRegressor(max_depth = 20, n_estimators = 500, random_state = 17)\n",
    "-cross_val_score(rfc, with_labels, labels['Postamat_daily'].dropna(), cv = 10,\n",
    "               scoring = 'neg_mean_squared_error').mean()"
   ]
  },
  {
   "cell_type": "code",
   "execution_count": 27,
   "metadata": {},
   "outputs": [],
   "source": [
    "label = labels['Postamat_daily'].dropna()"
   ]
  },
  {
   "cell_type": "code",
   "execution_count": 28,
   "metadata": {},
   "outputs": [
    {
     "data": {
      "text/plain": [
       "RandomForestRegressor(bootstrap=True, criterion='mse', max_depth=20,\n",
       "                      max_features='auto', max_leaf_nodes=None,\n",
       "                      min_impurity_decrease=0.0, min_impurity_split=None,\n",
       "                      min_samples_leaf=1, min_samples_split=2,\n",
       "                      min_weight_fraction_leaf=0.0, n_estimators=500,\n",
       "                      n_jobs=None, oob_score=False, random_state=17, verbose=0,\n",
       "                      warm_start=False)"
      ]
     },
     "execution_count": 28,
     "metadata": {},
     "output_type": "execute_result"
    }
   ],
   "source": [
    "rfc.fit(with_labels, label)"
   ]
  },
  {
   "cell_type": "code",
   "execution_count": 29,
   "metadata": {},
   "outputs": [],
   "source": [
    "y_pred = rfc.predict(second_dataset[trends['Postamat_trend'].isnull() == True])\n",
    "counter = 0\n",
    "for i in np.arange(len(trends)):\n",
    "    if np.isnan(labels['Postamat_daily'][i]):\n",
    "        labels['Postamat_daily'][i] = y_pred[counter]\n",
    "        counter += 1"
   ]
  },
  {
   "cell_type": "code",
   "execution_count": 30,
   "metadata": {},
   "outputs": [
    {
     "data": {
      "text/html": [
       "<div>\n",
       "<style scoped>\n",
       "    .dataframe tbody tr th:only-of-type {\n",
       "        vertical-align: middle;\n",
       "    }\n",
       "\n",
       "    .dataframe tbody tr th {\n",
       "        vertical-align: top;\n",
       "    }\n",
       "\n",
       "    .dataframe thead th {\n",
       "        text-align: right;\n",
       "    }\n",
       "</style>\n",
       "<table border=\"1\" class=\"dataframe\">\n",
       "  <thead>\n",
       "    <tr style=\"text-align: right;\">\n",
       "      <th></th>\n",
       "      <th>Postamat_daily</th>\n",
       "      <th>cashbox_daily</th>\n",
       "    </tr>\n",
       "  </thead>\n",
       "  <tbody>\n",
       "    <tr>\n",
       "      <td>0</td>\n",
       "      <td>2.858</td>\n",
       "      <td>3.3000</td>\n",
       "    </tr>\n",
       "    <tr>\n",
       "      <td>1</td>\n",
       "      <td>2.586</td>\n",
       "      <td>2.4088</td>\n",
       "    </tr>\n",
       "    <tr>\n",
       "      <td>2</td>\n",
       "      <td>3.478</td>\n",
       "      <td>3.1000</td>\n",
       "    </tr>\n",
       "    <tr>\n",
       "      <td>3</td>\n",
       "      <td>3.000</td>\n",
       "      <td>2.2000</td>\n",
       "    </tr>\n",
       "    <tr>\n",
       "      <td>4</td>\n",
       "      <td>1.000</td>\n",
       "      <td>2.0000</td>\n",
       "    </tr>\n",
       "    <tr>\n",
       "      <td>...</td>\n",
       "      <td>...</td>\n",
       "      <td>...</td>\n",
       "    </tr>\n",
       "    <tr>\n",
       "      <td>412</td>\n",
       "      <td>1.640</td>\n",
       "      <td>0.6248</td>\n",
       "    </tr>\n",
       "    <tr>\n",
       "      <td>413</td>\n",
       "      <td>1.442</td>\n",
       "      <td>0.5014</td>\n",
       "    </tr>\n",
       "    <tr>\n",
       "      <td>414</td>\n",
       "      <td>1.640</td>\n",
       "      <td>0.4654</td>\n",
       "    </tr>\n",
       "    <tr>\n",
       "      <td>415</td>\n",
       "      <td>1.468</td>\n",
       "      <td>0.5654</td>\n",
       "    </tr>\n",
       "    <tr>\n",
       "      <td>416</td>\n",
       "      <td>1.492</td>\n",
       "      <td>0.6570</td>\n",
       "    </tr>\n",
       "  </tbody>\n",
       "</table>\n",
       "<p>417 rows × 2 columns</p>\n",
       "</div>"
      ],
      "text/plain": [
       "     Postamat_daily  cashbox_daily\n",
       "0             2.858         3.3000\n",
       "1             2.586         2.4088\n",
       "2             3.478         3.1000\n",
       "3             3.000         2.2000\n",
       "4             1.000         2.0000\n",
       "..              ...            ...\n",
       "412           1.640         0.6248\n",
       "413           1.442         0.5014\n",
       "414           1.640         0.4654\n",
       "415           1.468         0.5654\n",
       "416           1.492         0.6570\n",
       "\n",
       "[417 rows x 2 columns]"
      ]
     },
     "execution_count": 30,
     "metadata": {},
     "output_type": "execute_result"
    }
   ],
   "source": [
    "labels"
   ]
  },
  {
   "cell_type": "markdown",
   "metadata": {},
   "source": [
    "## Теперь попробуем предсказывать Postamat trend\n",
    "#### На перекрестной проверке для признака Postmat_trend точность предсказания 60-65%"
   ]
  },
  {
   "cell_type": "code",
   "execution_count": 31,
   "metadata": {},
   "outputs": [
    {
     "data": {
      "text/plain": [
       "0.6178571428571429"
      ]
     },
     "execution_count": 31,
     "metadata": {},
     "output_type": "execute_result"
    }
   ],
   "source": [
    "rf = RandomForestClassifier(max_depth = 2, n_estimators = 500)\n",
    "cross_val_score(rf, with_labels, trends['Postamat_trend'].dropna(), cv = 10,\n",
    "               scoring = 'accuracy').mean()"
   ]
  },
  {
   "cell_type": "code",
   "execution_count": 32,
   "metadata": {},
   "outputs": [],
   "source": [
    "rf.fit(with_labels, trends['Postamat_trend'].dropna())\n",
    "y_pred = rf.predict(second_dataset[trends['Postamat_trend'].isna()])"
   ]
  },
  {
   "cell_type": "code",
   "execution_count": 33,
   "metadata": {},
   "outputs": [],
   "source": [
    "counter = 0\n",
    "for i in np.arange(len(trends)):\n",
    "    if np.isnan(trends['Postamat_trend'][i]):\n",
    "        trends['Postamat_trend'][i] = y_pred[counter]\n",
    "        counter += 1"
   ]
  },
  {
   "cell_type": "markdown",
   "metadata": {},
   "source": [
    "## Таблица с итоговыми предсказаниями по адресам"
   ]
  },
  {
   "cell_type": "code",
   "execution_count": 34,
   "metadata": {
    "scrolled": false
   },
   "outputs": [
    {
     "data": {
      "text/html": [
       "<div>\n",
       "<style scoped>\n",
       "    .dataframe tbody tr th:only-of-type {\n",
       "        vertical-align: middle;\n",
       "    }\n",
       "\n",
       "    .dataframe tbody tr th {\n",
       "        vertical-align: top;\n",
       "    }\n",
       "\n",
       "    .dataframe thead th {\n",
       "        text-align: right;\n",
       "    }\n",
       "</style>\n",
       "<table border=\"1\" class=\"dataframe\">\n",
       "  <thead>\n",
       "    <tr style=\"text-align: right;\">\n",
       "      <th></th>\n",
       "      <th>Адреса</th>\n",
       "      <th>Тренд развития почтомата при открытии</th>\n",
       "      <th>Тренд развития выдачи на кассе при открытии</th>\n",
       "      <th>Прогнозируемое количество заказов на кассе в день</th>\n",
       "      <th>Прогнозируемое количество заказов на почтомате в день</th>\n",
       "    </tr>\n",
       "  </thead>\n",
       "  <tbody>\n",
       "    <tr>\n",
       "      <td>0</td>\n",
       "      <td>г.Калуга, Литейная ул., 25/15</td>\n",
       "      <td>1.0</td>\n",
       "      <td>1.0</td>\n",
       "      <td>3.3000</td>\n",
       "      <td>2.858</td>\n",
       "    </tr>\n",
       "    <tr>\n",
       "      <td>1</td>\n",
       "      <td>г.Калуга, Гагарина ул., 1</td>\n",
       "      <td>1.0</td>\n",
       "      <td>0.0</td>\n",
       "      <td>2.4088</td>\n",
       "      <td>2.586</td>\n",
       "    </tr>\n",
       "    <tr>\n",
       "      <td>2</td>\n",
       "      <td>г.Калуга, Кибальчича ул., 25</td>\n",
       "      <td>1.0</td>\n",
       "      <td>0.0</td>\n",
       "      <td>3.1000</td>\n",
       "      <td>3.478</td>\n",
       "    </tr>\n",
       "    <tr>\n",
       "      <td>3</td>\n",
       "      <td>г.Калуга, Пестеля ул., 60/49</td>\n",
       "      <td>1.0</td>\n",
       "      <td>0.0</td>\n",
       "      <td>2.2000</td>\n",
       "      <td>3.000</td>\n",
       "    </tr>\n",
       "    <tr>\n",
       "      <td>4</td>\n",
       "      <td>г.Калуга, Ленина ул., 81</td>\n",
       "      <td>1.0</td>\n",
       "      <td>0.0</td>\n",
       "      <td>2.0000</td>\n",
       "      <td>1.000</td>\n",
       "    </tr>\n",
       "    <tr>\n",
       "      <td>...</td>\n",
       "      <td>...</td>\n",
       "      <td>...</td>\n",
       "      <td>...</td>\n",
       "      <td>...</td>\n",
       "      <td>...</td>\n",
       "    </tr>\n",
       "    <tr>\n",
       "      <td>412</td>\n",
       "      <td>д.Чернятино86А</td>\n",
       "      <td>0.0</td>\n",
       "      <td>0.0</td>\n",
       "      <td>0.6248</td>\n",
       "      <td>1.640</td>\n",
       "    </tr>\n",
       "    <tr>\n",
       "      <td>413</td>\n",
       "      <td>п.Дубовка, квартал 5/15, Центральный перс.6</td>\n",
       "      <td>1.0</td>\n",
       "      <td>0.0</td>\n",
       "      <td>0.5014</td>\n",
       "      <td>1.442</td>\n",
       "    </tr>\n",
       "    <tr>\n",
       "      <td>414</td>\n",
       "      <td>г.Донской, мкр.Северо-Задонск, Мичурина ул, 76...</td>\n",
       "      <td>0.0</td>\n",
       "      <td>0.0</td>\n",
       "      <td>0.4654</td>\n",
       "      <td>1.640</td>\n",
       "    </tr>\n",
       "    <tr>\n",
       "      <td>415</td>\n",
       "      <td>с.Гремячее, Новики ул., 12</td>\n",
       "      <td>1.0</td>\n",
       "      <td>0.0</td>\n",
       "      <td>0.5654</td>\n",
       "      <td>1.468</td>\n",
       "    </tr>\n",
       "    <tr>\n",
       "      <td>416</td>\n",
       "      <td>с.Коллонтай, Московская ул, 23</td>\n",
       "      <td>0.0</td>\n",
       "      <td>0.0</td>\n",
       "      <td>0.6570</td>\n",
       "      <td>1.492</td>\n",
       "    </tr>\n",
       "  </tbody>\n",
       "</table>\n",
       "<p>417 rows × 5 columns</p>\n",
       "</div>"
      ],
      "text/plain": [
       "                                                Адреса  \\\n",
       "0                        г.Калуга, Литейная ул., 25/15   \n",
       "1                            г.Калуга, Гагарина ул., 1   \n",
       "2                         г.Калуга, Кибальчича ул., 25   \n",
       "3                         г.Калуга, Пестеля ул., 60/49   \n",
       "4                             г.Калуга, Ленина ул., 81   \n",
       "..                                                 ...   \n",
       "412                                     д.Чернятино86А   \n",
       "413        п.Дубовка, квартал 5/15, Центральный перс.6   \n",
       "414  г.Донской, мкр.Северо-Задонск, Мичурина ул, 76...   \n",
       "415                         с.Гремячее, Новики ул., 12   \n",
       "416                     с.Коллонтай, Московская ул, 23   \n",
       "\n",
       "     Тренд развития почтомата при открытии  \\\n",
       "0                                      1.0   \n",
       "1                                      1.0   \n",
       "2                                      1.0   \n",
       "3                                      1.0   \n",
       "4                                      1.0   \n",
       "..                                     ...   \n",
       "412                                    0.0   \n",
       "413                                    1.0   \n",
       "414                                    0.0   \n",
       "415                                    1.0   \n",
       "416                                    0.0   \n",
       "\n",
       "     Тренд развития выдачи на кассе при открытии  \\\n",
       "0                                            1.0   \n",
       "1                                            0.0   \n",
       "2                                            0.0   \n",
       "3                                            0.0   \n",
       "4                                            0.0   \n",
       "..                                           ...   \n",
       "412                                          0.0   \n",
       "413                                          0.0   \n",
       "414                                          0.0   \n",
       "415                                          0.0   \n",
       "416                                          0.0   \n",
       "\n",
       "     Прогнозируемое количество заказов на кассе в день  \\\n",
       "0                                               3.3000   \n",
       "1                                               2.4088   \n",
       "2                                               3.1000   \n",
       "3                                               2.2000   \n",
       "4                                               2.0000   \n",
       "..                                                 ...   \n",
       "412                                             0.6248   \n",
       "413                                             0.5014   \n",
       "414                                             0.4654   \n",
       "415                                             0.5654   \n",
       "416                                             0.6570   \n",
       "\n",
       "     Прогнозируемое количество заказов на почтомате в день  \n",
       "0                                                2.858      \n",
       "1                                                2.586      \n",
       "2                                                3.478      \n",
       "3                                                3.000      \n",
       "4                                                1.000      \n",
       "..                                                 ...      \n",
       "412                                              1.640      \n",
       "413                                              1.442      \n",
       "414                                              1.640      \n",
       "415                                              1.468      \n",
       "416                                              1.492      \n",
       "\n",
       "[417 rows x 5 columns]"
      ]
     },
     "execution_count": 34,
     "metadata": {},
     "output_type": "execute_result"
    }
   ],
   "source": [
    "addresses = pd.read_excel('dataset.xlsx')['ADDRESS']\n",
    "submiss = pd.DataFrame({'Адреса': addresses, 'Тренд развития почтомата при открытии': trends['cashbox_trend'], 'Тренд развития выдачи на кассе при открытии': trends['Postamat_trend'], 'Прогнозируемое количество заказов на кассе в день': labels['cashbox_daily'], 'Прогнозируемое количество заказов на почтомате в день': labels['Postamat_daily']})\n",
    "submiss"
   ]
  }
 ],
 "metadata": {
  "kernelspec": {
   "display_name": "Python 3",
   "language": "python",
   "name": "python3"
  },
  "language_info": {
   "codemirror_mode": {
    "name": "ipython",
    "version": 3
   },
   "file_extension": ".py",
   "mimetype": "text/x-python",
   "name": "python",
   "nbconvert_exporter": "python",
   "pygments_lexer": "ipython3",
   "version": "3.7.4"
  }
 },
 "nbformat": 4,
 "nbformat_minor": 4
}
